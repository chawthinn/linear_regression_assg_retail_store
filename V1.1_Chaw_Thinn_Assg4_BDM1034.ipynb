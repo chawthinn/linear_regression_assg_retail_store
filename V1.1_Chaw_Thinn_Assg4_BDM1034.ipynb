{
 "cells": [
  {
   "cell_type": "markdown",
   "id": "7688abf1-e6d4-49c8-b1d5-41ee8f8de967",
   "metadata": {
    "jp-MarkdownHeadingCollapsed": true
   },
   "source": [
    "### Loading and Viewing the Dataset"
   ]
  },
  {
   "cell_type": "code",
   "execution_count": 1,
   "id": "574439da-9d72-4cd5-ad23-9faf13d435ab",
   "metadata": {},
   "outputs": [],
   "source": [
    "# import libraries\n",
    "import pandas as pd\n",
    "import numpy as np\n",
    "\n",
    "# load the datasets\n",
    "retail_data = pd.read_csv('retail_data_W23 - retail_data_W23.csv')\n",
    "retail_orders = pd.read_csv('retail_orders_W23 - retail_orders_W23.csv')\n",
    "store_data = pd.read_csv('store - store.csv')"
   ]
  },
  {
   "cell_type": "code",
   "execution_count": 4,
   "id": "a666681d-051f-450e-bfc1-dd474dbe251c",
   "metadata": {},
   "outputs": [
    {
     "name": "stdout",
     "output_type": "stream",
     "text": [
      "\n",
      "retail_data DataFrame - First 5 Rows:\n",
      "   Store  DayOfWeek        Date  Customers  Open  Promo StateHoliday  \\\n",
      "0      3          5  2015-07-31        821     1      1            0   \n",
      "1      4          5  2015-07-31       1498     1      1            0   \n",
      "2      5          5  2015-07-31        559     1      1            0   \n",
      "3      6          5  2015-07-31        589     1      1            0   \n",
      "4     10          5  2015-07-31        681     1      1            0   \n",
      "\n",
      "   SchoolHoliday   Id  \n",
      "0              1  409  \n",
      "1              1  427  \n",
      "2              1  445  \n",
      "3              1  463  \n",
      "4              1  535  \n",
      "\n",
      "retail_data DataFrame - Info:\n",
      "<class 'pandas.core.frame.DataFrame'>\n",
      "RangeIndex: 651013 entries, 0 to 651012\n",
      "Data columns (total 9 columns):\n",
      " #   Column         Non-Null Count   Dtype \n",
      "---  ------         --------------   ----- \n",
      " 0   Store          651013 non-null  int64 \n",
      " 1   DayOfWeek      651013 non-null  int64 \n",
      " 2   Date           651013 non-null  object\n",
      " 3   Customers      651013 non-null  int64 \n",
      " 4   Open           651013 non-null  int64 \n",
      " 5   Promo          651013 non-null  int64 \n",
      " 6   StateHoliday   651013 non-null  object\n",
      " 7   SchoolHoliday  651013 non-null  int64 \n",
      " 8   Id             651013 non-null  int64 \n",
      "dtypes: int64(7), object(2)\n",
      "memory usage: 44.7+ MB\n",
      "None\n",
      "\n",
      "retail_orders DataFrame - First 5 Rows:\n",
      "    Id  Orders\n",
      "0  409    8314\n",
      "1  427   13995\n",
      "2  445    4822\n",
      "3  463    5651\n",
      "4  535    7185\n",
      "\n",
      "retail_orders DataFrame - Info:\n",
      "<class 'pandas.core.frame.DataFrame'>\n",
      "RangeIndex: 651013 entries, 0 to 651012\n",
      "Data columns (total 2 columns):\n",
      " #   Column  Non-Null Count   Dtype\n",
      "---  ------  --------------   -----\n",
      " 0   Id      651013 non-null  int64\n",
      " 1   Orders  651013 non-null  int64\n",
      "dtypes: int64(2)\n",
      "memory usage: 9.9 MB\n",
      "None\n",
      "\n",
      "store_data DataFrame - First 5 Rows:\n",
      "   Store StoreType Assortment  CompetitionDistance  CompetitionOpenSinceMonth  \\\n",
      "0      1         c          a               1270.0                        9.0   \n",
      "1      2         a          a                570.0                       11.0   \n",
      "2      3         a          a              14130.0                       12.0   \n",
      "3      4         c          c                620.0                        9.0   \n",
      "4      5         a          a              29910.0                        4.0   \n",
      "\n",
      "   CompetitionOpenSinceYear  Promo2  Promo2SinceWeek  Promo2SinceYear  \\\n",
      "0                    2008.0       0              NaN              NaN   \n",
      "1                    2007.0       1             13.0           2010.0   \n",
      "2                    2006.0       1             14.0           2011.0   \n",
      "3                    2009.0       0              NaN              NaN   \n",
      "4                    2015.0       0              NaN              NaN   \n",
      "\n",
      "     PromoInterval  \n",
      "0              NaN  \n",
      "1  Jan,Apr,Jul,Oct  \n",
      "2  Jan,Apr,Jul,Oct  \n",
      "3              NaN  \n",
      "4              NaN  \n",
      "\n",
      "store_data DataFrame - Info:\n",
      "<class 'pandas.core.frame.DataFrame'>\n",
      "RangeIndex: 1115 entries, 0 to 1114\n",
      "Data columns (total 10 columns):\n",
      " #   Column                     Non-Null Count  Dtype  \n",
      "---  ------                     --------------  -----  \n",
      " 0   Store                      1115 non-null   int64  \n",
      " 1   StoreType                  1115 non-null   object \n",
      " 2   Assortment                 1115 non-null   object \n",
      " 3   CompetitionDistance        1112 non-null   float64\n",
      " 4   CompetitionOpenSinceMonth  761 non-null    float64\n",
      " 5   CompetitionOpenSinceYear   761 non-null    float64\n",
      " 6   Promo2                     1115 non-null   int64  \n",
      " 7   Promo2SinceWeek            571 non-null    float64\n",
      " 8   Promo2SinceYear            571 non-null    float64\n",
      " 9   PromoInterval              571 non-null    object \n",
      "dtypes: float64(5), int64(2), object(3)\n",
      "memory usage: 87.2+ KB\n",
      "None\n"
     ]
    }
   ],
   "source": [
    "# store dataframes in a dictionary\n",
    "dataframes = {'retail_data': retail_data, 'retail_orders': retail_orders, 'store_data': store_data}\n",
    "\n",
    "# view first 5 rows and info\n",
    "for name, df in dataframes.items():\n",
    "    print(f\"\\n{name} DataFrame - First 5 Rows:\")\n",
    "    print(df.head()) \n",
    "    \n",
    "    print(f\"\\n{name} DataFrame - Info:\")\n",
    "    print(df.info())"
   ]
  },
  {
   "cell_type": "markdown",
   "id": "8ff16ba6-949a-4c3f-a808-c0da4de17f49",
   "metadata": {},
   "source": [
    "### Merging data"
   ]
  },
  {
   "cell_type": "code",
   "execution_count": 5,
   "id": "61d91fed-ea44-462b-a9bc-11253c60a2fe",
   "metadata": {},
   "outputs": [],
   "source": [
    "merged_data = pd.merge(retail_data, store_data, on='Store', how='left')\n",
    "merged_data = pd.merge(merged_data, retail_orders, on='Id', how='left')"
   ]
  },
  {
   "cell_type": "markdown",
   "id": "04bbdfe8-8c9a-4ee9-92b6-9b2053f3199e",
   "metadata": {},
   "source": [
    "### Exploratory Data Analysis"
   ]
  },
  {
   "cell_type": "code",
   "execution_count": 8,
   "id": "3673e541-c686-4fc8-9a94-5c834044b9ab",
   "metadata": {},
   "outputs": [
    {
     "name": "stdout",
     "output_type": "stream",
     "text": [
      "               Store      DayOfWeek      Customers           Open  \\\n",
      "count  651013.000000  651013.000000  651013.000000  651013.000000   \n",
      "mean      558.645629       3.999336     632.851832       0.829619   \n",
      "std       321.905872       1.998260     464.857658       0.375967   \n",
      "min         1.000000       1.000000       0.000000       0.000000   \n",
      "25%       281.000000       2.000000     404.000000       1.000000   \n",
      "50%       558.000000       4.000000     609.000000       1.000000   \n",
      "75%       838.000000       6.000000     837.000000       1.000000   \n",
      "max      1115.000000       7.000000    5458.000000       1.000000   \n",
      "\n",
      "               Promo  SchoolHoliday            Id  CompetitionDistance  \\\n",
      "count  651013.000000  651013.000000  6.510130e+05        649312.000000   \n",
      "mean        0.381558       0.178927  9.153619e+06          5436.342390   \n",
      "std         0.485769       0.383292  5.285944e+06          7713.881629   \n",
      "min         0.000000       0.000000  4.090000e+02            20.000000   \n",
      "25%         0.000000       0.000000  4.578709e+06           710.000000   \n",
      "50%         0.000000       0.000000  9.151915e+06          2330.000000   \n",
      "75%         1.000000       0.000000  1.373353e+07          6890.000000   \n",
      "max         1.000000       1.000000  1.831010e+07         75860.000000   \n",
      "\n",
      "       CompetitionOpenSinceMonth  CompetitionOpenSinceYear         Promo2  \\\n",
      "count              443851.000000             443851.000000  651013.000000   \n",
      "mean                    7.225204               2008.677184       0.500093   \n",
      "std                     3.212135                  6.045821       0.500000   \n",
      "min                     1.000000               1900.000000       0.000000   \n",
      "25%                     4.000000               2006.000000       0.000000   \n",
      "50%                     8.000000               2010.000000       1.000000   \n",
      "75%                    10.000000               2013.000000       1.000000   \n",
      "max                    12.000000               2015.000000       1.000000   \n",
      "\n",
      "       Promo2SinceWeek  Promo2SinceYear         Orders  \n",
      "count    325567.000000    325567.000000  651013.000000  \n",
      "mean         23.286254      2011.751710    5770.521006  \n",
      "std          14.091848         1.663509    3851.171979  \n",
      "min           1.000000      2009.000000       0.000000  \n",
      "25%          13.000000      2011.000000    3721.000000  \n",
      "50%          22.000000      2012.000000    5743.000000  \n",
      "75%          37.000000      2013.000000    7856.000000  \n",
      "max          50.000000      2015.000000   38722.000000  \n"
     ]
    }
   ],
   "source": [
    "print(merged_data.describe())"
   ]
  },
  {
   "cell_type": "code",
   "execution_count": 10,
   "id": "ad48c40a-ca5e-42d7-9ae9-0bfa0897aa23",
   "metadata": {},
   "outputs": [
    {
     "name": "stdout",
     "output_type": "stream",
     "text": [
      "Store                             0\n",
      "DayOfWeek                         0\n",
      "Date                              0\n",
      "Customers                         0\n",
      "Open                              0\n",
      "Promo                             0\n",
      "StateHoliday                      0\n",
      "SchoolHoliday                     0\n",
      "Id                                0\n",
      "StoreType                         0\n",
      "Assortment                        0\n",
      "CompetitionDistance            1701\n",
      "CompetitionOpenSinceMonth    207162\n",
      "CompetitionOpenSinceYear     207162\n",
      "Promo2                            0\n",
      "Promo2SinceWeek              325446\n",
      "Promo2SinceYear              325446\n",
      "PromoInterval                325446\n",
      "Orders                            0\n",
      "dtype: int64\n"
     ]
    }
   ],
   "source": [
    "# check for missing values\n",
    "print(merged_data.isna().sum())"
   ]
  },
  {
   "cell_type": "code",
   "execution_count": 11,
   "id": "6ea294ba-18ae-4c3a-8bab-c494997c4f2d",
   "metadata": {},
   "outputs": [
    {
     "name": "stdout",
     "output_type": "stream",
     "text": [
      "        Store  DayOfWeek        Date  Customers  Open  Promo StateHoliday  \\\n",
      "406       622          5  2015-07-31        540     1      1            0   \n",
      "566       879          5  2015-07-31        466     1      1            0   \n",
      "915       291          4  2015-07-30        883     1      1            0   \n",
      "1126      622          4  2015-07-30        406     1      1            0   \n",
      "1297      879          4  2015-07-30        426     1      1            0   \n",
      "...       ...        ...         ...        ...   ...    ...          ...   \n",
      "649270    622          4  2013-01-03        419     1      0            0   \n",
      "649435    879          4  2013-01-03        332     1      0            0   \n",
      "649968    622          3  2013-01-02        451     1      0            0   \n",
      "650133    879          3  2013-01-02        326     1      0            0   \n",
      "650482    291          2  2013-01-01          0     0      0            a   \n",
      "\n",
      "        SchoolHoliday        Id StoreType Assortment  CompetitionDistance  \\\n",
      "406                 1     11551         a          c                  NaN   \n",
      "566                 0     16177         d          a                  NaN   \n",
      "915                 1     25663         d          a                  NaN   \n",
      "1126                1     31621         a          c                  NaN   \n",
      "1297                0     36247         d          a                  NaN   \n",
      "...               ...       ...       ...        ...                  ...   \n",
      "649270              1  18261121         a          c                  NaN   \n",
      "649435              1  18265747         d          a                  NaN   \n",
      "649968              1  18281191         a          c                  NaN   \n",
      "650133              1  18285817         d          a                  NaN   \n",
      "650482              1  18295303         d          a                  NaN   \n",
      "\n",
      "        CompetitionOpenSinceMonth  CompetitionOpenSinceYear  Promo2  \\\n",
      "406                           NaN                       NaN       0   \n",
      "566                           NaN                       NaN       1   \n",
      "915                           NaN                       NaN       0   \n",
      "1126                          NaN                       NaN       0   \n",
      "1297                          NaN                       NaN       1   \n",
      "...                           ...                       ...     ...   \n",
      "649270                        NaN                       NaN       0   \n",
      "649435                        NaN                       NaN       1   \n",
      "649968                        NaN                       NaN       0   \n",
      "650133                        NaN                       NaN       1   \n",
      "650482                        NaN                       NaN       0   \n",
      "\n",
      "        Promo2SinceWeek  Promo2SinceYear    PromoInterval  Orders  \n",
      "406                 NaN              NaN              NaN    6306  \n",
      "566                   5             2013  Feb,May,Aug,Nov    6000  \n",
      "915                 NaN              NaN              NaN    9030  \n",
      "1126                NaN              NaN              NaN    5412  \n",
      "1297                  5             2013  Feb,May,Aug,Nov    5861  \n",
      "...                 ...              ...              ...     ...  \n",
      "649270              NaN              NaN              NaN    4085  \n",
      "649435                5             2013  Feb,May,Aug,Nov    3344  \n",
      "649968              NaN              NaN              NaN    4080  \n",
      "650133                5             2013  Feb,May,Aug,Nov    3077  \n",
      "650482              NaN              NaN              NaN       0  \n",
      "\n",
      "[1701 rows x 19 columns]\n"
     ]
    }
   ],
   "source": [
    "# Filter rows where CompetitionDistance is missing\n",
    "missing_competition_distance = merged_data.loc[merged_data['CompetitionDistance'].isna()]\n",
    "\n",
    "# Display those rows with all columns\n",
    "print(missing_competition_distance)"
   ]
  },
  {
   "cell_type": "code",
   "execution_count": null,
   "id": "d97db483-9c00-4738-9ac7-8b166c23d8ca",
   "metadata": {},
   "outputs": [],
   "source": []
  }
 ],
 "metadata": {
  "kernelspec": {
   "display_name": "Python 3 (ipykernel)",
   "language": "python",
   "name": "python3"
  },
  "language_info": {
   "codemirror_mode": {
    "name": "ipython",
    "version": 3
   },
   "file_extension": ".py",
   "mimetype": "text/x-python",
   "name": "python",
   "nbconvert_exporter": "python",
   "pygments_lexer": "ipython3",
   "version": "3.12.7"
  }
 },
 "nbformat": 4,
 "nbformat_minor": 5
}
